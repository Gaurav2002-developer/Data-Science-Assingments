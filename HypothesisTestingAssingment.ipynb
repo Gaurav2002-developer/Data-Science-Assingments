{
 "cells": [
  {
   "cell_type": "markdown",
   "id": "05c434a0-db67-4b9d-a80f-0e8bc77943fc",
   "metadata": {},
   "source": [
    "### Hypothesis Testing Assingment"
   ]
  },
  {
   "cell_type": "raw",
   "id": "9ba9dc5f-01c8-44b8-8b8d-2bf8405ea37a",
   "metadata": {},
   "source": [
    "Question: \n",
    "Bombay hospitality Ltd. operates a franchise model for producing exotic Norwegian dinners throughout New England. The operating cost\n",
    "for a franchise in a week (W) is given by the equation W = $1,000 + $5X, where X represents the number of units produced in a week. Recent feedback from restaurant owners suggests that this cost model may no longer be accurate, as their observed weekly operating costs are higher.\n",
    "\n",
    "Objective:\n",
    "To investigate the restaurant owners' claim about the increase in weekly operating costs using hypothesis testing.\n",
    "\n",
    "Data Provided:\n",
    "The theoretical weekly operating cost model: W = $1,000 + $5X\n",
    "Sample of 25 restaurants with a mean weekly cost of Rs. 3,050\n",
    "Number of units produced in a week (X) follows a normal distribution with a mean (μ) of 600 units and a standard deviation (σ) of 25 units\n",
    "\n",
    "Assignment Tasks:\n",
    "1. State the Hypotheses statement:\n",
    "2. Calculate the Test Statistic:\n",
    "\n",
    "Use the following formula to calculate the test statistic (t):\n",
    "where:\n",
    "ˉxˉ = sample mean weekly cost (Rs. 3,050)\n",
    "μ = theoretical mean weekly cost according to the cost model (W = $1,000 + $5X for X = 600 units)\n",
    "σ = 5*25 units\n",
    "n = sample size (25 restaurants)\n",
    "\n",
    "3. Determine the Critical Value:\n",
    "Using the alpha level of 5% (α = 0.05), determine the critical value from the standard normal (Z) distribution table.\n",
    "\n",
    "4. Make a Decision:\n",
    "Compare the test statistic with the critical value to decide whether to reject the null hypothesis.\n",
    "\n",
    "5. Conclusion:\n",
    "Based on the decision in step 4, conclude whether there is strong evidence to support the restaurant owners' claim that the weekly\n",
    "operating costs are higher than the model suggests."
   ]
  },
  {
   "cell_type": "markdown",
   "id": "0fe7044e-0e00-4599-8724-b16dda57193b",
   "metadata": {},
   "source": [
    "### Z-Test"
   ]
  },
  {
   "cell_type": "code",
   "execution_count": 1,
   "id": "a1967fff-f05a-4736-b71f-d64b321074f8",
   "metadata": {},
   "outputs": [],
   "source": [
    "import numpy as np\n",
    "import scipy.stats as stats\n",
    "from statsmodels.stats.weightstats import ztest"
   ]
  },
  {
   "cell_type": "code",
   "execution_count": 21,
   "id": "902c41a9-becc-443d-8a92-f11547b0daa1",
   "metadata": {},
   "outputs": [],
   "source": [
    "#Given Data\n",
    "sample_mean = 3050  \n",
    "n = 25    # n\n",
    "alpha = 0.05 \n",
    "pop_mean = 600  \n",
    "std_dev = 25  "
   ]
  },
  {
   "cell_type": "raw",
   "id": "2055613d-f6b6-4667-8278-09696f37210c",
   "metadata": {},
   "source": [
    "Here the Null Hypothesis (H0) and Anlternative Hypothesis (Ha) are :\n",
    "HO : There is no increase in the weekly opearting cost  (H0 = 4000)\n",
    "Ha : There is a increase in the weekly operating cost   (Ha > 4000)"
   ]
  },
  {
   "cell_type": "code",
   "execution_count": 25,
   "id": "1085e19a-1b05-4699-82a3-1fd551a046be",
   "metadata": {},
   "outputs": [
    {
     "data": {
      "text/plain": [
       "4000"
      ]
     },
     "execution_count": 25,
     "metadata": {},
     "output_type": "execute_result"
    }
   ],
   "source": [
    "# Therotical Mean Value:\n",
    "W = 1000 + 5 * pop_mean\n",
    "W"
   ]
  },
  {
   "cell_type": "code",
   "execution_count": 26,
   "id": "88aea5b1-0ecd-48b1-8d79-94590afd72b0",
   "metadata": {},
   "outputs": [
    {
     "data": {
      "text/plain": [
       "125"
      ]
     },
     "execution_count": 26,
     "metadata": {},
     "output_type": "execute_result"
    }
   ],
   "source": [
    "# Standard deviation of the weekly cost\n",
    "population_std_dev_cost = 5 * std_dev\n",
    "population_std_dev_cost"
   ]
  },
  {
   "cell_type": "code",
   "execution_count": 27,
   "id": "4568f0c2-f0e9-4e2d-8ae9-5b5e6531796e",
   "metadata": {},
   "outputs": [
    {
     "data": {
      "text/plain": [
       "25.0"
      ]
     },
     "execution_count": 27,
     "metadata": {},
     "output_type": "execute_result"
    }
   ],
   "source": [
    "standard_error = population_std_dev_cost / np.sqrt(n)\n",
    "standard_error"
   ]
  },
  {
   "cell_type": "code",
   "execution_count": 29,
   "id": "0678503c-4ab5-447d-9250-3ebb9820dcce",
   "metadata": {},
   "outputs": [
    {
     "data": {
      "text/plain": [
       "-38.0"
      ]
     },
     "execution_count": 29,
     "metadata": {},
     "output_type": "execute_result"
    }
   ],
   "source": [
    "#z score\n",
    "z_score = (sample_mean - W) / standard_error\n",
    "z_score"
   ]
  },
  {
   "cell_type": "code",
   "execution_count": 46,
   "id": "b9d2ac98-1a17-4b5d-94b3-f643dab53e27",
   "metadata": {},
   "outputs": [
    {
     "data": {
      "text/plain": [
       "1.959963984540054"
      ]
     },
     "execution_count": 46,
     "metadata": {},
     "output_type": "execute_result"
    }
   ],
   "source": [
    "#alpha = 0.05, C.I == 0.95\n",
    "critical_value = stats.norm.ppf(1- 0.05 /2 )\n",
    "critical_value"
   ]
  },
  {
   "cell_type": "code",
   "execution_count": 47,
   "id": "6cfebaed-d57f-4fb7-b095-8c7b8fc8fcce",
   "metadata": {},
   "outputs": [
    {
     "name": "stdout",
     "output_type": "stream",
     "text": [
      "3098.999099613501\n",
      "3001.000900386499\n"
     ]
    }
   ],
   "source": [
    "pop_mean_upper = sample_mean + (critical_value * standard_error)\n",
    "pop_mean_lower = sample_mean - (critical_value * standard_error)\n",
    "print(pop_mean_upper)\n",
    "print(pop_mean_lower)"
   ]
  },
  {
   "cell_type": "code",
   "execution_count": 44,
   "id": "f0c780c3-0398-4fe9-a4f9-f591df21d911",
   "metadata": {},
   "outputs": [
    {
     "name": "stdout",
     "output_type": "stream",
     "text": [
      "Fail to Reject the Null Hypothesis (H₀)\n"
     ]
    }
   ],
   "source": [
    "if z_score > critical_value:\n",
    "    print(\"Reject the Null Hypothesis (H₀)\")\n",
    "else:\n",
    "    print(\"Fail to Reject the Null Hypothesis (H₀)\")"
   ]
  }
 ],
 "metadata": {
  "kernelspec": {
   "display_name": "Python 3 (ipykernel)",
   "language": "python",
   "name": "python3"
  },
  "language_info": {
   "codemirror_mode": {
    "name": "ipython",
    "version": 3
   },
   "file_extension": ".py",
   "mimetype": "text/x-python",
   "name": "python",
   "nbconvert_exporter": "python",
   "pygments_lexer": "ipython3",
   "version": "3.12.3"
  }
 },
 "nbformat": 4,
 "nbformat_minor": 5
}
