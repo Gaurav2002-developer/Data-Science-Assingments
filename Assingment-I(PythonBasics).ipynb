{
 "cells": [
  {
   "cell_type": "markdown",
   "id": "26ba5140-664e-4526-a1b1-bdd491053465",
   "metadata": {},
   "source": [
    "# PYTHON PROGRAMMING ASSIGNMENT\r\n",
    "\r\n",
    "## Coding Exercises\r\n",
    "\r\n",
    "**Name** - Gaurav Chaturvedi  \r\n",
    "**Course** - Data Science (Weekday Batch)\r\n"
   ]
  },
  {
   "cell_type": "raw",
   "id": "9ab4631c-cdad-4921-beff-5cdb000b0a52",
   "metadata": {},
   "source": [
    "Exercise 1: Prime Numbers\n",
    "Write a Python program that checks whether a given number is prime or not. \n",
    "A prime number is a natural number greater than 1 that has no positive divisors other than 1 and itself."
   ]
  },
  {
   "cell_type": "code",
   "execution_count": 3,
   "id": "217bae1a-1475-47df-a652-10f86af21be2",
   "metadata": {},
   "outputs": [
    {
     "name": "stdin",
     "output_type": "stream",
     "text": [
      "Enter the Prime Number:  4\n"
     ]
    },
    {
     "name": "stdout",
     "output_type": "stream",
     "text": [
      "The Give number 4 is not a Prime.\n",
      "False\n"
     ]
    }
   ],
   "source": [
    "#Code:\n",
    "def is_prime(n):\n",
    "    \n",
    "    if n <= 2:\n",
    "        raise ValueError(\"A Prime Number should be greater than 2.\")\n",
    "\n",
    "    else: \n",
    "        for i in range(2, n):\n",
    "                \n",
    "            if n % i == 0:\n",
    "                print(f'The Give number {n} is not a Prime.')\n",
    "                return False\n",
    "                \n",
    "        print(f\"The given number {n} is Prime.\")\n",
    "        return True\n",
    "\n",
    "n = int(input(\"Enter the Prime Number: \"))\n",
    "out = is_prime(n)\n",
    "print(out)"
   ]
  },
  {
   "cell_type": "raw",
   "id": "943c17ef-6b0f-44be-875e-0a2bd57901a5",
   "metadata": {},
   "source": [
    "Exercise 2: Product of Random Numbers\n",
    "Develop a Python program that generates two random numbers and asks the user to enter the product of these numbers.\n",
    "The program should then check if the user's answer is correct and display an appropriate message."
   ]
  },
  {
   "cell_type": "code",
   "execution_count": 5,
   "id": "afe9d208-89c5-4d95-b881-5476ca3f0f68",
   "metadata": {},
   "outputs": [
    {
     "name": "stdout",
     "output_type": "stream",
     "text": [
      "The two random numbers generated are 5 and 3.\n"
     ]
    },
    {
     "name": "stdin",
     "output_type": "stream",
     "text": [
      "Find the product of these numbers :5 * 3 : 15\n"
     ]
    },
    {
     "name": "stdout",
     "output_type": "stream",
     "text": [
      "The product you got is correct.\n"
     ]
    }
   ],
   "source": [
    "#Code:\n",
    "import random\n",
    "def check_product(ans, num1, num2):\n",
    "    product = num1*num2\n",
    "    \n",
    "    if product == ans:\n",
    "        return \"The product you got is correct.\"\n",
    "        \n",
    "    else:\n",
    "        return f\"The product you got is wrong, and the correct product is {product}.\"\n",
    "\n",
    "num1 = random.randint(1,10)\n",
    "num2 = random.randint(1,10)\n",
    "print(f'The two random numbers generated are {num1} and {num2}.')\n",
    "ans = int(input(f'Find the product of these numbers :{num1} * {num2} :'))\n",
    "out = check_product(ans, num1, num2, )\n",
    "print(out)"
   ]
  },
  {
   "cell_type": "raw",
   "id": "9560b7b2-a53a-4df3-918b-2bdc774ab459",
   "metadata": {},
   "source": [
    "Exercise 3: Squares of Even/Odd Numbers\n",
    "Create a Python script that prints the squares of all even or odd numbers within the range of 100 to 200. \n",
    "Choose either even or odd numbers and document your choice in the code."
   ]
  },
  {
   "cell_type": "code",
   "execution_count": 7,
   "id": "1a8a3e79-6d7b-4385-a75b-62e48062f6a7",
   "metadata": {},
   "outputs": [
    {
     "name": "stdin",
     "output_type": "stream",
     "text": [
      "Enter the Choice:  Even\n"
     ]
    },
    {
     "name": "stdout",
     "output_type": "stream",
     "text": [
      "The Square Root of your choice EVEN numbers from 100 - 200 are :\n",
      "10000\n",
      "10404\n",
      "10816\n",
      "11236\n",
      "11664\n",
      "12100\n",
      "12544\n",
      "12996\n",
      "13456\n",
      "13924\n",
      "14400\n",
      "14884\n",
      "15376\n",
      "15876\n",
      "16384\n",
      "16900\n",
      "17424\n",
      "17956\n",
      "18496\n",
      "19044\n",
      "19600\n",
      "20164\n",
      "20736\n",
      "21316\n",
      "21904\n",
      "22500\n",
      "23104\n",
      "23716\n",
      "24336\n",
      "24964\n",
      "25600\n",
      "26244\n",
      "26896\n",
      "27556\n",
      "28224\n",
      "28900\n",
      "29584\n",
      "30276\n",
      "30976\n",
      "31684\n",
      "32400\n",
      "33124\n",
      "33856\n",
      "34596\n",
      "35344\n",
      "36100\n",
      "36864\n",
      "37636\n",
      "38416\n",
      "39204\n",
      "None\n"
     ]
    }
   ],
   "source": [
    "#Code:\n",
    "def square_num(n, ans):\n",
    "    if ans != 'even' and ans != 'odd':\n",
    "        return \"Wrong input. Please enter 'Even' or 'Odd'.\"\n",
    "     \n",
    "    b = ans.upper()\n",
    "    print(f'The Square Root of your choice {b} numbers from 100 - {n} are :')        \n",
    "    for i in range(100, n):\n",
    "        if ans == 'even' and i % 2 == 0:\n",
    "                   \n",
    "            print(i ** 2)\n",
    "                \n",
    "        elif ans == 'odd' and i % 2 != 0 :\n",
    "                # ans.upper()\n",
    "                print(i ** 2)\n",
    "        \n",
    "ans = input(\"Enter the Choice: \").lower()\n",
    "n = 200\n",
    "out = square_num(n, ans)\n",
    "print(out)"
   ]
  },
  {
   "cell_type": "raw",
   "id": "079c9292-a406-463d-86b6-d00b86ad956b",
   "metadata": {},
   "source": [
    "Exercise 4: Word counter\n",
    "write a program to count the number of words in a given text.\n",
    "example:\n",
    "input_text = \"This is a sample text. This text will be used to demonstrate the word counter.\""
   ]
  },
  {
   "cell_type": "code",
   "execution_count": 9,
   "id": "9c1d2c72-c2ec-4737-b0b7-a06d3585d9af",
   "metadata": {},
   "outputs": [
    {
     "name": "stdin",
     "output_type": "stream",
     "text": [
      "Enter the text :  This is a sample text. This text will be used to demonstrate the word counter.\n"
     ]
    },
    {
     "name": "stdout",
     "output_type": "stream",
     "text": [
      "this: 2\n",
      "is: 1\n",
      "a: 1\n",
      "sample: 1\n",
      "text.: 1\n",
      "text: 1\n",
      "will: 1\n",
      "be: 1\n",
      "used: 1\n",
      "to: 1\n",
      "demonstrate: 1\n",
      "the: 1\n",
      "word: 1\n",
      "counter.: 1\n"
     ]
    }
   ],
   "source": [
    "#Code:\n",
    "def word_count(text):\n",
    "    split = text.split()\n",
    "    word_count = {}\n",
    "    \n",
    "    for char in split:\n",
    "        if char in word_count:\n",
    "            word_count[char] += 1\n",
    "        else:\n",
    "            word_count[char] = 1\n",
    "            \n",
    "    return word_count\n",
    "text = input(\"Enter the text : \").lower()\n",
    "result = word_count(text)\n",
    "for char, count in result.items():\n",
    "        print(f'{char}: {count}')"
   ]
  },
  {
   "cell_type": "raw",
   "id": "89b66728-398a-492e-9281-e79037a3efe7",
   "metadata": {},
   "source": [
    "Exercise 5: Check for Palindrome\n",
    "Write a Python function called is_palindrome that takes a string as input and returns True if the string is a palindrome, and False otherwise. A palindrome is a word, phrase, number, or other sequence of characters that reads the same forward and backward, ignoring spaces, punctuation, and capitalization.\n",
    "Example:\n",
    "Input: \"racecar\"\n",
    "Expected Output: True"
   ]
  },
  {
   "cell_type": "code",
   "execution_count": 11,
   "id": "47faa14b-6faf-48cd-8b68-d10647636347",
   "metadata": {},
   "outputs": [
    {
     "name": "stdin",
     "output_type": "stream",
     "text": [
      "Enter the word to check for Palindrome :  Madam\n"
     ]
    },
    {
     "name": "stdout",
     "output_type": "stream",
     "text": [
      "True\n"
     ]
    }
   ],
   "source": [
    "#code:\n",
    "def is_palin(string):\n",
    "    clean = string.lower()\n",
    "    n = len(clean)\n",
    "    \n",
    "    for char in range(n // 2):\n",
    "        if clean[char] != clean[n - char -1]:\n",
    "            return False\n",
    "            \n",
    "    return True\n",
    "    \n",
    "string = input(\"Enter the word to check for Palindrome : \")\n",
    "result = is_palin(string)\n",
    "print(result)"
   ]
  }
 ],
 "metadata": {
  "kernelspec": {
   "display_name": "Python 3 (ipykernel)",
   "language": "python",
   "name": "python3"
  },
  "language_info": {
   "codemirror_mode": {
    "name": "ipython",
    "version": 3
   },
   "file_extension": ".py",
   "mimetype": "text/x-python",
   "name": "python",
   "nbconvert_exporter": "python",
   "pygments_lexer": "ipython3",
   "version": "3.12.4"
  }
 },
 "nbformat": 4,
 "nbformat_minor": 5
}
