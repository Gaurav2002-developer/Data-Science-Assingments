{
 "cells": [
  {
   "cell_type": "code",
   "execution_count": 1,
   "id": "ff50b0b7-5c38-480b-89b7-abae69106a9e",
   "metadata": {},
   "outputs": [
    {
     "name": "stdout",
     "output_type": "stream",
     "text": [
      "Step 1: Hypotheses Statement\n",
      "Null Hypothesis (H₀): Device type and customer satisfaction are independent.\n",
      "Alternative Hypothesis (Hₐ): Device type and customer satisfaction are dependent.\n",
      "----------------------------------------\n",
      "Step 2: Chi-Square Statistic and Expected Frequencies\n",
      "Chi-Square Statistic: 5.6382\n",
      "Degrees of Freedom: 4\n",
      "\n",
      "Expected Frequencies:\n",
      "[[ 48.  72.]\n",
      " [ 72. 108.]\n",
      " [ 60.  90.]\n",
      " [ 32.  48.]\n",
      " [ 28.  42.]]\n",
      "----------------------------------------\n",
      "Step 3: Critical Value Determination\n",
      "Significance Level (α): 0.05\n",
      "Critical Chi-Square Value: 9.4877\n",
      "----------------------------------------\n",
      "Step 4: Decision\n",
      "Calculated Chi-Square Statistic: 5.6382\n",
      "Critical Chi-Square Value: 9.4877\n",
      "Decision: Fail to Reject the Null Hypothesis (H₀)\n",
      "----------------------------------------\n",
      "Step 5: Conclusion\n",
      "Based on the analysis, there is no statistically significant association between the type of smart home device and customer satisfaction.\n",
      "The calculated Chi-Square statistic (5.6382) is less than the critical value (9.4877).\n",
      "We fail to reject the null hypothesis, meaning the observed differences are likely due to random chance.\n"
     ]
    }
   ],
   "source": [
    "# Import necessary libraries\n",
    "import numpy as np\n",
    "from scipy.stats import chi2\n",
    "from scipy.stats import chi2_contingency\n",
    "\n",
    "# ==============================================================================\n",
    "# Step 1: State the Hypotheses\n",
    "# ==============================================================================\n",
    "\n",
    "# Null Hypothesis (H₀): There is no association between the type of smart home\n",
    "# device and the customer's satisfaction level. The two variables are independent.\n",
    "# H₀: The device type and customer satisfaction are independent.\n",
    "\n",
    "# Alternative Hypothesis (Hₐ): There is a significant association between the\n",
    "# type of smart home device and the customer's satisfaction level. The two\n",
    "# variables are dependent.\n",
    "# Hₐ: The device type and customer satisfaction are dependent.\n",
    "\n",
    "print(\"Step 1: Hypotheses Statement\")\n",
    "print(\"Null Hypothesis (H₀): Device type and customer satisfaction are independent.\")\n",
    "print(\"Alternative Hypothesis (Hₐ): Device type and customer satisfaction are dependent.\")\n",
    "print(\"-\" * 40)\n",
    "\n",
    "\n",
    "# ==============================================================================\n",
    "# Step 2: Compute the Chi-Square Statistic\n",
    "# ==============================================================================\n",
    "\n",
    "# Observed data from the contingency table\n",
    "# Rows represent satisfaction levels, columns represent device types.\n",
    "observed_data = np.array([\n",
    "    [50, 70],   # Very Satisfied\n",
    "    [80, 100],  # Satisfied\n",
    "    [60, 90],   # Neutral\n",
    "    [30, 50],   # Unsatisfied\n",
    "    [20, 50]    # Very Unsatisfied\n",
    "])\n",
    "\n",
    "# Use the chi2_contingency function from scipy.stats to calculate\n",
    "# the chi-square statistic, p-value, degrees of freedom, and expected frequencies.\n",
    "chi2_statistic, p_value, degrees_of_freedom, expected_frequencies = chi2_contingency(observed_data)\n",
    "\n",
    "# Print the results\n",
    "print(\"Step 2: Chi-Square Statistic and Expected Frequencies\")\n",
    "print(f\"Chi-Square Statistic: {chi2_statistic:.4f}\")\n",
    "print(f\"Degrees of Freedom: {degrees_of_freedom}\")\n",
    "print(\"\\nExpected Frequencies:\")\n",
    "print(expected_frequencies.round(2))\n",
    "print(\"-\" * 40)\n",
    "\n",
    "\n",
    "# ==============================================================================\n",
    "# Step 3: Determine the Critical Value\n",
    "# ==============================================================================\n",
    "\n",
    "# Significance level (alpha)\n",
    "alpha = 0.05\n",
    "\n",
    "# Critical value for the Chi-Square distribution\n",
    "# The critical value is the threshold for rejecting the null hypothesis.\n",
    "critical_value = chi2.ppf(1 - alpha, df=degrees_of_freedom)\n",
    "\n",
    "print(\"Step 3: Critical Value Determination\")\n",
    "print(f\"Significance Level (α): {alpha}\")\n",
    "print(f\"Critical Chi-Square Value: {critical_value:.4f}\")\n",
    "print(\"-\" * 40)\n",
    "\n",
    "\n",
    "# ==============================================================================\n",
    "# Step 4: Make a Decision\n",
    "# ==============================================================================\n",
    "\n",
    "print(\"Step 4: Decision\")\n",
    "print(f\"Calculated Chi-Square Statistic: {chi2_statistic:.4f}\")\n",
    "print(f\"Critical Chi-Square Value: {critical_value:.4f}\")\n",
    "\n",
    "if chi2_statistic > critical_value:\n",
    "    decision = \"Reject the Null Hypothesis (H₀)\"\n",
    "else:\n",
    "    decision = \"Fail to Reject the Null Hypothesis (H₀)\"\n",
    "\n",
    "print(f\"Decision: {decision}\")\n",
    "print(\"-\" * 40)\n",
    "\n",
    "\n",
    "# ==============================================================================\n",
    "# Step 5: Conclusion\n",
    "# ==============================================================================\n",
    "\n",
    "print(\"Step 5: Conclusion\")\n",
    "\n",
    "if chi2_statistic > critical_value:\n",
    "    print(\"Based on the analysis, there is a statistically significant association between the type of smart home device and customer satisfaction.\")\n",
    "    print(f\"The calculated Chi-Square statistic ({chi2_statistic:.4f}) is greater than the critical value ({critical_value:.4f}).\")\n",
    "    print(\"This provides strong evidence to reject the null hypothesis and conclude that customer satisfaction is dependent on the device type.\")\n",
    "else:\n",
    "    print(\"Based on the analysis, there is no statistically significant association between the type of smart home device and customer satisfaction.\")\n",
    "    print(f\"The calculated Chi-Square statistic ({chi2_statistic:.4f}) is less than the critical value ({critical_value:.4f}).\")\n",
    "    print(\"We fail to reject the null hypothesis, meaning the observed differences are likely due to random chance.\")\n"
   ]
  },
  {
   "cell_type": "code",
   "execution_count": 2,
   "id": "7cf1c362-e034-4c7c-9eb5-90c3ab02ee81",
   "metadata": {},
   "outputs": [],
   "source": [
    "import numpy as np\n",
    "from scipy.stats import chi2\n",
    "from scipy.stats import chi2_contingency"
   ]
  },
  {
   "cell_type": "markdown",
   "id": "56b9657b-0951-4830-b5b2-4dffc2d0ca5f",
   "metadata": {},
   "source": [
    "### Chi-Square test"
   ]
  },
  {
   "cell_type": "raw",
   "id": "d3ae3c65-f0cf-4c6d-9610-513988f1c135",
   "metadata": {},
   "source": [
    "Association between Device Type and Customer Satisfaction\n",
    "\n",
    "Background:\n",
    "Mizzare Corporation has collected data on customer satisfaction levels for two types of smart home devices: Smart Thermostats and\n",
    "Smart Lights. They want to determine if there's a significant association between the type of device purchased and the customer's satisfaction level.\n",
    "\n",
    "Data Provided:\n",
    "The data is summarized in a contingency table showing the counts of customers in each satisfaction level for both types of devices:\n",
    "\n",
    "Satisfaction\tSmart Thermostat\tSmart Light\tTotal\n",
    "Very Satisfied\t50\t     70\t            120\n",
    "Satisfied\t    80\t     100\t        180\n",
    "Neutral\t        60\t     90\t            150\n",
    "Unsatisfied\t    30\t     50\t            80\n",
    "VeryUnsatisfied\t20\t     50\t            70\n",
    "\n",
    "Total\t        240\t     360\t        600\n",
    "\n",
    "\n",
    "Objective:\n",
    "To use the Chi-Square test for independence to determine if there's a significant association between the type of smart home device\n",
    "purchased (Smart Thermostats vs. Smart Lights) and the customer satisfaction level.\n",
    "\n",
    "Assignment Tasks:\n",
    "1. State the Hypotheses:\n",
    "2. Compute the Chi-Square Statistic:\n",
    "3. Determine the Critical Value:\n",
    "\n",
    "Using the significance level (alpha) of 0.05 and the degrees of freedom (which is the number of categories minus 1)\n",
    "\n",
    "4. Make a Decision:\n",
    "Compare the Chi-Square statistic with the critical value to decide whether to reject the null hypothesis."
   ]
  },
  {
   "cell_type": "code",
   "execution_count": 3,
   "id": "38e1e66b-a266-4043-8fdc-31de9897dc2a",
   "metadata": {},
   "outputs": [],
   "source": [
    "observed_data = np.array([\n",
    "    [50, 70],   # Very Satisfied\n",
    "    [80, 100],  # Satisfied\n",
    "    [60, 90],   # Neutral\n",
    "    [30, 50],   # Unsatisfied\n",
    "    [20, 50]    # Very Unsatisfied\n",
    "])"
   ]
  },
  {
   "cell_type": "raw",
   "id": "b91a09d9-b301-4bdd-bce9-31c09757eb79",
   "metadata": {},
   "source": [
    "H₀: The device type and customer satisfaction are independent.\n",
    "Hₐ: The device type and customer satisfaction are dependent."
   ]
  },
  {
   "cell_type": "code",
   "execution_count": 4,
   "id": "f4572983-4cf4-4e4e-91b7-cee80bdee12b",
   "metadata": {},
   "outputs": [],
   "source": [
    "chi2_statistic, p_value, degrees_of_freedom, expected_frequencies = chi2_contingency(observed_data)"
   ]
  },
  {
   "cell_type": "code",
   "execution_count": 13,
   "id": "d961aab4-87cb-4f2a-9d32-11589caa15b6",
   "metadata": {},
   "outputs": [
    {
     "name": "stdout",
     "output_type": "stream",
     "text": [
      "P_Value:  0.22784371130697179\n",
      "Chi-Square Statistic: 5.638227513227513\n",
      "Degrees of Freedom: 4\n"
     ]
    }
   ],
   "source": [
    "print(\"P_Value: \" ,p_value)\n",
    "print(\"Chi-Square Statistic:\" ,chi2_statistic)\n",
    "print(\"Degrees of Freedom:\" ,degrees_of_freedom)"
   ]
  },
  {
   "cell_type": "code",
   "execution_count": 12,
   "id": "e75f2f48-6cc1-49b4-8a20-1c4c4248ab08",
   "metadata": {},
   "outputs": [
    {
     "name": "stdout",
     "output_type": "stream",
     "text": [
      "[[ 48.  72.]\n",
      " [ 72. 108.]\n",
      " [ 60.  90.]\n",
      " [ 32.  48.]\n",
      " [ 28.  42.]]\n"
     ]
    }
   ],
   "source": [
    "print(expected_frequencies.round(2))"
   ]
  },
  {
   "cell_type": "code",
   "execution_count": 11,
   "id": "c34ae7ea-5f5b-434b-8066-d9dbdafd2096",
   "metadata": {},
   "outputs": [],
   "source": [
    "alpha = 0.05"
   ]
  },
  {
   "cell_type": "code",
   "execution_count": 15,
   "id": "1be70c01-6b26-4f1e-9a2a-df56b1a0d57a",
   "metadata": {},
   "outputs": [
    {
     "data": {
      "text/plain": [
       "9.487729036781154"
      ]
     },
     "execution_count": 15,
     "metadata": {},
     "output_type": "execute_result"
    }
   ],
   "source": [
    "critical_value = chi2.ppf(1 - alpha, df=degrees_of_freedom)\n",
    "critical_value"
   ]
  },
  {
   "cell_type": "code",
   "execution_count": null,
   "id": "2fb64778-186c-4ca1-8c4c-8063ab7615e3",
   "metadata": {},
   "outputs": [],
   "source": [
    "if chi2_statistic > critical_value:\n",
    "    decision = \"Reject the Null Hypothesis (H₀)\"\n",
    "else:\n",
    "    decision = \"Fail to Reject the Null Hypothesis (H₀)\""
   ]
  }
 ],
 "metadata": {
  "kernelspec": {
   "display_name": "Python 3 (ipykernel)",
   "language": "python",
   "name": "python3"
  },
  "language_info": {
   "codemirror_mode": {
    "name": "ipython",
    "version": 3
   },
   "file_extension": ".py",
   "mimetype": "text/x-python",
   "name": "python",
   "nbconvert_exporter": "python",
   "pygments_lexer": "ipython3",
   "version": "3.12.3"
  }
 },
 "nbformat": 4,
 "nbformat_minor": 5
}
